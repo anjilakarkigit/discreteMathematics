{
  "nbformat": 4,
  "nbformat_minor": 0,
  "metadata": {
    "colab": {
      "name": "Untitled0.ipynb",
      "provenance": [],
      "include_colab_link": true
    },
    "kernelspec": {
      "name": "python3",
      "display_name": "Python 3"
    }
  },
  "cells": [
    {
      "cell_type": "markdown",
      "metadata": {
        "id": "view-in-github",
        "colab_type": "text"
      },
      "source": [
        "<a href=\"https://colab.research.google.com/github/anjilakarkigit/discreteMathematics/blob/main/Probability_project2.ipynb\" target=\"_parent\"><img src=\"https://colab.research.google.com/assets/colab-badge.svg\" alt=\"Open In Colab\"/></a>"
      ]
    },
    {
      "cell_type": "markdown",
      "metadata": {
        "id": "YCJaepmmfKrS"
      },
      "source": [
        "# Project Part 3 : CPSMA 3133 Dr. Jacob's Discrete Mathematics \n",
        "\n",
        "## Probability\n",
        "\n",
        "### Anjila Karki and 267815\n",
        "\n",
        "\n"
      ]
    },
    {
      "cell_type": "markdown",
      "source": [
        "# Probability"
      ],
      "metadata": {
        "id": "AJzguWpomdbH"
      }
    },
    {
      "cell_type": "markdown",
      "source": [
        "For the sample space, I will be using creating a random situation of card. Probability of getting first card Queen is 1/13.Probability of jack is 1/13. Probability of neither is 11/13."
      ],
      "metadata": {
        "id": "TqZ9lzeKmzAV"
      }
    },
    {
      "cell_type": "code",
      "source": [
        "p = [1/13,1/13,11/13]\n",
        "sum(p)"
      ],
      "metadata": {
        "id": "USFAp_k5miUF",
        "outputId": "ccca2ade-af08-44b9-a485-b3b5ec14b235",
        "colab": {
          "base_uri": "https://localhost:8080/"
        }
      },
      "execution_count": 1,
      "outputs": [
        {
          "output_type": "execute_result",
          "data": {
            "text/plain": [
              "1.0"
            ]
          },
          "metadata": {},
          "execution_count": 1
        }
      ]
    },
    {
      "cell_type": "markdown",
      "source": [
        "A compound event is getting Queen or Jack. Lets call this draw R."
      ],
      "metadata": {
        "id": "vEBn9hI-nKkO"
      }
    },
    {
      "cell_type": "code",
      "source": [
        "ProbabilityR = 0\n",
        "\n",
        "for i in [0,1]:\n",
        "  ProbabilityR += p[i]\n",
        "\n",
        "ProbabilityR"
      ],
      "metadata": {
        "id": "ArsnRf3UnRNc",
        "outputId": "3f75a443-8912-4684-decb-774b3c1750a7",
        "colab": {
          "base_uri": "https://localhost:8080/"
        }
      },
      "execution_count": 2,
      "outputs": [
        {
          "output_type": "execute_result",
          "data": {
            "text/plain": [
              "0.15384615384615385"
            ]
          },
          "metadata": {},
          "execution_count": 2
        }
      ]
    },
    {
      "cell_type": "markdown",
      "source": [
        "$$P(A\\cap R)$$"
      ],
      "metadata": {
        "id": "AiwssmSSnfq8"
      }
    },
    {
      "cell_type": "code",
      "source": [
        "intersection = p[0] * ProbabilityR\n",
        "intersection"
      ],
      "metadata": {
        "id": "mak1XeUineqY",
        "outputId": "5100edc4-6d9a-4694-98a0-bde272d079d3",
        "colab": {
          "base_uri": "https://localhost:8080/"
        }
      },
      "execution_count": 3,
      "outputs": [
        {
          "output_type": "execute_result",
          "data": {
            "text/plain": [
              "0.01183431952662722"
            ]
          },
          "metadata": {},
          "execution_count": 3
        }
      ]
    },
    {
      "cell_type": "markdown",
      "source": [
        "$$\n",
        "P(A|R)=\\frac{P(A\\cap R)}{P(R)}\n",
        "$$"
      ],
      "metadata": {
        "id": "rnrWfiqhnktC"
      }
    },
    {
      "cell_type": "code",
      "source": [
        "RGA = intersection/ProbabilityR\n",
        "RGA"
      ],
      "metadata": {
        "id": "lLetI3V2nphl",
        "outputId": "731bf872-36cc-4a63-e742-9f11bee19638",
        "colab": {
          "base_uri": "https://localhost:8080/"
        }
      },
      "execution_count": 4,
      "outputs": [
        {
          "output_type": "execute_result",
          "data": {
            "text/plain": [
              "0.07692307692307693"
            ]
          },
          "metadata": {},
          "execution_count": 4
        }
      ]
    },
    {
      "cell_type": "markdown",
      "source": [
        "$$\n",
        "P(R|A)=\\frac{P(R\\cap A)}{P(A)}\n",
        "$$"
      ],
      "metadata": {
        "id": "-0rNWNCgnuc-"
      }
    },
    {
      "cell_type": "code",
      "source": [
        "AGR = intersection/p[0]\n",
        "AGR"
      ],
      "metadata": {
        "id": "GfXfyTXBnzJr",
        "outputId": "bd27fe48-af0d-47a1-84b6-420c7a1ccd4a",
        "colab": {
          "base_uri": "https://localhost:8080/"
        }
      },
      "execution_count": 5,
      "outputs": [
        {
          "output_type": "execute_result",
          "data": {
            "text/plain": [
              "0.15384615384615385"
            ]
          },
          "metadata": {},
          "execution_count": 5
        }
      ]
    },
    {
      "cell_type": "markdown",
      "source": [
        " Now, Applying Baye's\n",
        "\n",
        "$$\n",
        "P(A|R) = \\frac{P(A)P(R|A)}{P(R)}\n",
        "$$"
      ],
      "metadata": {
        "id": "HNLYIDMvn4Uk"
      }
    },
    {
      "cell_type": "code",
      "source": [
        "RGA == (p[0] * AGR)/ProbabilityR"
      ],
      "metadata": {
        "id": "TN7CPyBkn9__",
        "outputId": "17cb6e8a-8419-4cb6-80ab-38deafd8f53d",
        "colab": {
          "base_uri": "https://localhost:8080/"
        }
      },
      "execution_count": 6,
      "outputs": [
        {
          "output_type": "execute_result",
          "data": {
            "text/plain": [
              "True"
            ]
          },
          "metadata": {},
          "execution_count": 6
        }
      ]
    },
    {
      "cell_type": "markdown",
      "source": [
        "Simulation. I will be computing the frequency counts so I will be multiplying by 13."
      ],
      "metadata": {
        "id": "t0fi-wD_oGJM"
      }
    },
    {
      "cell_type": "code",
      "source": [
        "p13 = [13*i for i in p]\n",
        "p13"
      ],
      "metadata": {
        "id": "uSCM5QtZoHAS",
        "outputId": "d15d3678-2cfc-4192-92a3-734d4f150e38",
        "colab": {
          "base_uri": "https://localhost:8080/"
        }
      },
      "execution_count": 7,
      "outputs": [
        {
          "output_type": "execute_result",
          "data": {
            "text/plain": [
              "[1.0, 1.0, 11.0]"
            ]
          },
          "metadata": {},
          "execution_count": 7
        }
      ]
    },
    {
      "cell_type": "markdown",
      "source": [
        "Now, its turn for the random choices."
      ],
      "metadata": {
        "id": "LPx4ra2BoP1h"
      }
    },
    {
      "cell_type": "code",
      "source": [
        "from random import choices\n",
        "\n",
        "\n",
        "draw = choices(['one','two','Other'],p13,k=10)\n",
        "print(draw)\n",
        "\n",
        "countone = 0;\n",
        "counttwo = 0;\n",
        "countOthers = 0;\n",
        "\n",
        "for i in draw:\n",
        "  if i == 'one':\n",
        "    countone += 1\n",
        "  if i == 'two':\n",
        "    counttwo += 1\n",
        "  if i == 'Other':\n",
        "    countOthers += 1\n",
        "\n",
        "estimateProb = [countone/len(draw), counttwo/len(draw), countOthers/len(draw)]\n",
        "estimateProb"
      ],
      "metadata": {
        "id": "iGqk_oQooTlg",
        "outputId": "34d3fcac-9376-40cf-8860-535f6b1a37cf",
        "colab": {
          "base_uri": "https://localhost:8080/"
        }
      },
      "execution_count": 10,
      "outputs": [
        {
          "output_type": "stream",
          "name": "stdout",
          "text": [
            "['Other', 'Other', 'two', 'Other', 'Other', 'Other', 'Other', 'Other', 'two', 'Other']\n"
          ]
        },
        {
          "output_type": "execute_result",
          "data": {
            "text/plain": [
              "[0.0, 0.2, 0.8]"
            ]
          },
          "metadata": {},
          "execution_count": 10
        }
      ]
    }
  ]
}