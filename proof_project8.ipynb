{
  "nbformat": 4,
  "nbformat_minor": 0,
  "metadata": {
    "colab": {
      "name": "Untitled0.ipynb",
      "provenance": [],
      "include_colab_link": true
    },
    "kernelspec": {
      "name": "python3",
      "display_name": "Python 3"
    }
  },
  "cells": [
    {
      "cell_type": "markdown",
      "metadata": {
        "id": "view-in-github",
        "colab_type": "text"
      },
      "source": [
        "<a href=\"https://colab.research.google.com/github/anjilakarkigit/discreteMathematics/blob/main/proof_project8.ipynb\" target=\"_parent\"><img src=\"https://colab.research.google.com/assets/colab-badge.svg\" alt=\"Open In Colab\"/></a>"
      ]
    },
    {
      "cell_type": "markdown",
      "metadata": {
        "id": "YCJaepmmfKrS"
      },
      "source": [
        "# Project Part 8# : CPSMA 3133 [Dr. Jacob's](https://github.com/nurfnick) Discrete Mathematics \n",
        "\n",
        "## Proofs\n",
        "\n",
        "### Anjila Karki and 267815\n",
        "\n",
        "\n"
      ]
    },
    {
      "cell_type": "markdown",
      "source": [
        "In the final section of this project I will explore proofs.\n",
        "\n",
        "I will use the equation y=2x+6 to do this"
      ],
      "metadata": {
        "id": "kExX9l24KTi9"
      }
    },
    {
      "cell_type": "code",
      "source": [
        "import math\n",
        "import numpy as np\n",
        "import matplotlib.pyplot as plt\n",
        "\n",
        "inputs = np.array(range(5))\n",
        "function = 2*inputs+6\n",
        "plt.plot(inputs,function)"
      ],
      "metadata": {
        "id": "OhcXzn3mKtY9",
        "outputId": "c62f7e2f-82fa-44a0-f8d3-25c930888b3e",
        "colab": {
          "base_uri": "https://localhost:8080/",
          "height": 282
        }
      },
      "execution_count": 1,
      "outputs": [
        {
          "output_type": "execute_result",
          "data": {
            "text/plain": [
              "[<matplotlib.lines.Line2D at 0x7fb9c5ba7350>]"
            ]
          },
          "metadata": {},
          "execution_count": 1
        },
        {
          "output_type": "display_data",
          "data": {
            "image/png": "[encoded data removed]",
            "text/plain": [
              "<Figure size 432x288 with 1 Axes>"
            ]
          },
          "metadata": {
            "needs_background": "light"
          }
        }
      ]
    },
    {
      "cell_type": "markdown",
      "source": [
        "The graph looks correct."
      ],
      "metadata": {
        "id": "jcZkNVRhK4j7"
      }
    },
    {
      "cell_type": "code",
      "source": [
        "2==  6*0+2"
      ],
      "metadata": {
        "id": "iwgOX4RnK9BT",
        "outputId": "933769dd-0aa7-46e0-9345-9fd71d4cf840",
        "colab": {
          "base_uri": "https://localhost:8080/"
        }
      },
      "execution_count": 2,
      "outputs": [
        {
          "output_type": "execute_result",
          "data": {
            "text/plain": [
              "True"
            ]
          },
          "metadata": {},
          "execution_count": 2
        }
      ]
    },
    {
      "cell_type": "markdown",
      "source": [
        "# Finding"
      ],
      "metadata": {
        "id": "73gB8GGFLGKS"
      }
    },
    {
      "cell_type": "markdown",
      "source": [
        "At first, make your equation and I tried making it easier by choosing a simple equation. Then I plotted the graph using python. And, Finally I wanted to check if a certain point is a y-intercept or not. After assigning x intercept to be zero the equation should equal to the y-intercept value."
      ],
      "metadata": {
        "id": "iHFg6HKWMAYN"
      }
    }
  ]
}