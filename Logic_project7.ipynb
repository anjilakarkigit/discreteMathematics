{
  "nbformat": 4,
  "nbformat_minor": 0,
  "metadata": {
    "colab": {
      "name": "Copy of Untitled0.ipynb",
      "provenance": [],
      "include_colab_link": true
    },
    "kernelspec": {
      "name": "python3",
      "display_name": "Python 3"
    }
  },
  "cells": [
    {
      "cell_type": "markdown",
      "metadata": {
        "id": "view-in-github",
        "colab_type": "text"
      },
      "source": [
        "<a href=\"https://colab.research.google.com/github/anjilakarkigit/discreteMathematics/blob/main/Logic_project7.ipynb\" target=\"_parent\"><img src=\"https://colab.research.google.com/assets/colab-badge.svg\" alt=\"Open In Colab\"/></a>"
      ]
    },
    {
      "cell_type": "markdown",
      "metadata": {
        "id": "YCJaepmmfKrS"
      },
      "source": [
        "# Project Part 7: CPSMA 3133 [Dr. Jacob's](https://github.com/nurfnick) Discrete Mathematics \n",
        "\n",
        "## Logic\n",
        "\n",
        "### Anjila Karki and 267815\n",
        "\n",
        "\n"
      ]
    },
    {
      "cell_type": "markdown",
      "source": [
        "For my project in logic, I will take three different types of food and decide Whether I would eat those or not when I am in Keto diet.I will label True as yes and False as no."
      ],
      "metadata": {
        "id": "aUo_xb9zvSon"
      }
    },
    {
      "cell_type": "code",
      "source": [
        "coke = False\n",
        "chicken = True\n",
        "veggies = True"
      ],
      "metadata": {
        "id": "4sMH2MuSwJM2"
      },
      "execution_count": null,
      "outputs": []
    },
    {
      "cell_type": "markdown",
      "source": [
        "Now, I will computing different truth statement for the above conditions.\n",
        "\n",
        "$$coke \\land veggies$$"
      ],
      "metadata": {
        "id": "7zloyGFvwz7p"
      }
    },
    {
      "cell_type": "code",
      "source": [
        "coke and veggies"
      ],
      "metadata": {
        "id": "goCto5aiw_ed",
        "outputId": "bcf4d459-4b37-4d75-e677-5d829794bd5b",
        "colab": {
          "base_uri": "https://localhost:8080/"
        }
      },
      "execution_count": null,
      "outputs": [
        {
          "output_type": "execute_result",
          "data": {
            "text/plain": [
              "False"
            ]
          },
          "metadata": {},
          "execution_count": 3
        }
      ]
    },
    {
      "cell_type": "markdown",
      "source": [
        "Now,\n",
        "\n",
        "  $veggies \\lor \\lnot chicken $"
      ],
      "metadata": {
        "id": "_BfsIp3zxHwE"
      }
    },
    {
      "cell_type": "code",
      "source": [
        "veggies or not(chicken)"
      ],
      "metadata": {
        "id": "b_QuMd98xQWo",
        "outputId": "da8dbf11-4552-4a5e-ad9e-8f73373f20be",
        "colab": {
          "base_uri": "https://localhost:8080/"
        }
      },
      "execution_count": null,
      "outputs": [
        {
          "output_type": "execute_result",
          "data": {
            "text/plain": [
              "True"
            ]
          },
          "metadata": {},
          "execution_count": 4
        }
      ]
    },
    {
      "cell_type": "markdown",
      "source": [
        "Now, \n",
        "\n",
        "\n",
        "$veggies\\Rightarrow coke$ "
      ],
      "metadata": {
        "id": "lL9Zu1CPxZAq"
      }
    },
    {
      "cell_type": "code",
      "source": [
        "not(veggies) or coke"
      ],
      "metadata": {
        "id": "S0cUFrKIxZ_H",
        "outputId": "8a635e46-c115-4dfd-acaa-ac95936694a8",
        "colab": {
          "base_uri": "https://localhost:8080/"
        }
      },
      "execution_count": null,
      "outputs": [
        {
          "output_type": "execute_result",
          "data": {
            "text/plain": [
              "False"
            ]
          },
          "metadata": {},
          "execution_count": 5
        }
      ]
    },
    {
      "cell_type": "markdown",
      "source": [
        "So, above I have computed the truth value with the propositions.We can see the truth values of the as true or false."
      ],
      "metadata": {
        "id": "yXN5R6ufxlkN"
      }
    },
    {
      "cell_type": "markdown",
      "source": [
        "After, computing the above truth values, I will be creating the truth table for all the propositions above."
      ],
      "metadata": {
        "id": "eYNN4ekrxmPo"
      }
    },
    {
      "cell_type": "code",
      "source": [
        "!pip install truth-table-generator\n",
        "import ttg"
      ],
      "metadata": {
        "id": "70K6KVxKzsnQ",
        "outputId": "36fbe280-c8ef-4a4d-d40d-d268d2038680",
        "colab": {
          "base_uri": "https://localhost:8080/"
        }
      },
      "execution_count": null,
      "outputs": [
        {
          "output_type": "stream",
          "name": "stdout",
          "text": [
            "Collecting truth-table-generator\n",
            "  Downloading truth_table_generator-1.1.2.tar.gz (14 kB)\n",
            "Requirement already satisfied: numpy in /usr/local/lib/python3.7/dist-packages (from truth-table-generator) (1.21.5)\n",
            "Requirement already satisfied: pandas in /usr/local/lib/python3.7/dist-packages (from truth-table-generator) (1.3.5)\n",
            "Collecting PTable\n",
            "  Downloading PTable-0.9.2.tar.gz (31 kB)\n",
            "Requirement already satisfied: pyparsing in /usr/local/lib/python3.7/dist-packages (from truth-table-generator) (3.0.7)\n",
            "Requirement already satisfied: tabulate in /usr/local/lib/python3.7/dist-packages (from truth-table-generator) (0.8.9)\n",
            "Requirement already satisfied: jinja2 in /usr/local/lib/python3.7/dist-packages (from truth-table-generator) (2.11.3)\n",
            "Requirement already satisfied: MarkupSafe>=0.23 in /usr/local/lib/python3.7/dist-packages (from jinja2->truth-table-generator) (2.0.1)\n",
            "Requirement already satisfied: pytz>=2017.3 in /usr/local/lib/python3.7/dist-packages (from pandas->truth-table-generator) (2018.9)\n",
            "Requirement already satisfied: python-dateutil>=2.7.3 in /usr/local/lib/python3.7/dist-packages (from pandas->truth-table-generator) (2.8.2)\n",
            "Requirement already satisfied: six>=1.5 in /usr/local/lib/python3.7/dist-packages (from python-dateutil>=2.7.3->pandas->truth-table-generator) (1.15.0)\n",
            "Building wheels for collected packages: truth-table-generator, PTable\n",
            "  Building wheel for truth-table-generator (setup.py) ... \u001b[?25l\u001b[?25hdone\n",
            "  Created wheel for truth-table-generator: filename=truth_table_generator-1.1.2-py3-none-any.whl size=13960 sha256=09ca857238da1f720de9c7e72cb29e81c2c62c56bbbcdec7f671b4b7add62e90\n",
            "  Stored in directory: /root/.cache/pip/wheels/9a/55/b5/77f5756832494eafda92c7a94c1365ac31088a18a3a97dd480\n",
            "  Building wheel for PTable (setup.py) ... \u001b[?25l\u001b[?25hdone\n",
            "  Created wheel for PTable: filename=PTable-0.9.2-py3-none-any.whl size=22925 sha256=dbae2b261bf649847e5ae02a69a761ca7938e0ea92c15a0d670085cb4fd35f9f\n",
            "  Stored in directory: /root/.cache/pip/wheels/33/df/2f/674985b3f8a2de3f96357d1eadef5110f74fa91b3785e52a54\n",
            "Successfully built truth-table-generator PTable\n",
            "Installing collected packages: PTable, truth-table-generator\n",
            "Successfully installed PTable-0.9.2 truth-table-generator-1.1.2\n"
          ]
        }
      ]
    },
    {
      "cell_type": "code",
      "source": [
        "table = ttg.Truths(['coke', 'chicken', 'veggies'], ['coke xor chicken', '~(coke xor chicken)', 'chicken or veggies', '(~(coke xor chicken)) => (chicken or veggies)'], ints = False)\n",
        "table.as_pandas().style.set_properties(**{'text-align': 'left'}).hide_index()"
      ],
      "metadata": {
        "id": "-vDuLyGuz4BR",
        "outputId": "bacc6c70-c141-489d-f508-240e279811a1",
        "colab": {
          "base_uri": "https://localhost:8080/",
          "height": 352
        }
      },
      "execution_count": null,
      "outputs": [
        {
          "output_type": "execute_result",
          "data": {
            "text/html": [
              "<style type=\"text/css\">\n",
              "#T_5730a_row0_col0, #T_5730a_row0_col1, #T_5730a_row0_col2, #T_5730a_row0_col3, #T_5730a_row0_col4, #T_5730a_row0_col5, #T_5730a_row0_col6, #T_5730a_row1_col0, #T_5730a_row1_col1, #T_5730a_row1_col2, #T_5730a_row1_col3, #T_5730a_row1_col4, #T_5730a_row1_col5, #T_5730a_row1_col6, #T_5730a_row2_col0, #T_5730a_row2_col1, #T_5730a_row2_col2, #T_5730a_row2_col3, #T_5730a_row2_col4, #T_5730a_row2_col5, #T_5730a_row2_col6, #T_5730a_row3_col0, #T_5730a_row3_col1, #T_5730a_row3_col2, #T_5730a_row3_col3, #T_5730a_row3_col4, #T_5730a_row3_col5, #T_5730a_row3_col6, #T_5730a_row4_col0, #T_5730a_row4_col1, #T_5730a_row4_col2, #T_5730a_row4_col3, #T_5730a_row4_col4, #T_5730a_row4_col5, #T_5730a_row4_col6, #T_5730a_row5_col0, #T_5730a_row5_col1, #T_5730a_row5_col2, #T_5730a_row5_col3, #T_5730a_row5_col4, #T_5730a_row5_col5, #T_5730a_row5_col6, #T_5730a_row6_col0, #T_5730a_row6_col1, #T_5730a_row6_col2, #T_5730a_row6_col3, #T_5730a_row6_col4, #T_5730a_row6_col5, #T_5730a_row6_col6, #T_5730a_row7_col0, #T_5730a_row7_col1, #T_5730a_row7_col2, #T_5730a_row7_col3, #T_5730a_row7_col4, #T_5730a_row7_col5, #T_5730a_row7_col6 {\n",
              "  text-align: left;\n",
              "}\n",
              "</style>\n",
              "<table id=\"T_5730a_\" class=\"dataframe\">\n",
              "  <thead>\n",
              "    <tr>\n",
              "      <th class=\"col_heading level0 col0\" >coke</th>\n",
              "      <th class=\"col_heading level0 col1\" >chicken</th>\n",
              "      <th class=\"col_heading level0 col2\" >veggies</th>\n",
              "      <th class=\"col_heading level0 col3\" >coke xor chicken</th>\n",
              "      <th class=\"col_heading level0 col4\" >~(coke xor chicken)</th>\n",
              "      <th class=\"col_heading level0 col5\" >chicken or veggies</th>\n",
              "      <th class=\"col_heading level0 col6\" >(~(coke xor chicken)) => (chicken or veggies)</th>\n",
              "    </tr>\n",
              "  </thead>\n",
              "  <tbody>\n",
              "    <tr>\n",
              "      <td id=\"T_5730a_row0_col0\" class=\"data row0 col0\" >True</td>\n",
              "      <td id=\"T_5730a_row0_col1\" class=\"data row0 col1\" >True</td>\n",
              "      <td id=\"T_5730a_row0_col2\" class=\"data row0 col2\" >True</td>\n",
              "      <td id=\"T_5730a_row0_col3\" class=\"data row0 col3\" >False</td>\n",
              "      <td id=\"T_5730a_row0_col4\" class=\"data row0 col4\" >True</td>\n",
              "      <td id=\"T_5730a_row0_col5\" class=\"data row0 col5\" >True</td>\n",
              "      <td id=\"T_5730a_row0_col6\" class=\"data row0 col6\" >True</td>\n",
              "    </tr>\n",
              "    <tr>\n",
              "      <td id=\"T_5730a_row1_col0\" class=\"data row1 col0\" >True</td>\n",
              "      <td id=\"T_5730a_row1_col1\" class=\"data row1 col1\" >True</td>\n",
              "      <td id=\"T_5730a_row1_col2\" class=\"data row1 col2\" >False</td>\n",
              "      <td id=\"T_5730a_row1_col3\" class=\"data row1 col3\" >False</td>\n",
              "      <td id=\"T_5730a_row1_col4\" class=\"data row1 col4\" >True</td>\n",
              "      <td id=\"T_5730a_row1_col5\" class=\"data row1 col5\" >True</td>\n",
              "      <td id=\"T_5730a_row1_col6\" class=\"data row1 col6\" >True</td>\n",
              "    </tr>\n",
              "    <tr>\n",
              "      <td id=\"T_5730a_row2_col0\" class=\"data row2 col0\" >True</td>\n",
              "      <td id=\"T_5730a_row2_col1\" class=\"data row2 col1\" >False</td>\n",
              "      <td id=\"T_5730a_row2_col2\" class=\"data row2 col2\" >True</td>\n",
              "      <td id=\"T_5730a_row2_col3\" class=\"data row2 col3\" >True</td>\n",
              "      <td id=\"T_5730a_row2_col4\" class=\"data row2 col4\" >False</td>\n",
              "      <td id=\"T_5730a_row2_col5\" class=\"data row2 col5\" >True</td>\n",
              "      <td id=\"T_5730a_row2_col6\" class=\"data row2 col6\" >True</td>\n",
              "    </tr>\n",
              "    <tr>\n",
              "      <td id=\"T_5730a_row3_col0\" class=\"data row3 col0\" >True</td>\n",
              "      <td id=\"T_5730a_row3_col1\" class=\"data row3 col1\" >False</td>\n",
              "      <td id=\"T_5730a_row3_col2\" class=\"data row3 col2\" >False</td>\n",
              "      <td id=\"T_5730a_row3_col3\" class=\"data row3 col3\" >True</td>\n",
              "      <td id=\"T_5730a_row3_col4\" class=\"data row3 col4\" >False</td>\n",
              "      <td id=\"T_5730a_row3_col5\" class=\"data row3 col5\" >False</td>\n",
              "      <td id=\"T_5730a_row3_col6\" class=\"data row3 col6\" >True</td>\n",
              "    </tr>\n",
              "    <tr>\n",
              "      <td id=\"T_5730a_row4_col0\" class=\"data row4 col0\" >False</td>\n",
              "      <td id=\"T_5730a_row4_col1\" class=\"data row4 col1\" >True</td>\n",
              "      <td id=\"T_5730a_row4_col2\" class=\"data row4 col2\" >True</td>\n",
              "      <td id=\"T_5730a_row4_col3\" class=\"data row4 col3\" >True</td>\n",
              "      <td id=\"T_5730a_row4_col4\" class=\"data row4 col4\" >False</td>\n",
              "      <td id=\"T_5730a_row4_col5\" class=\"data row4 col5\" >True</td>\n",
              "      <td id=\"T_5730a_row4_col6\" class=\"data row4 col6\" >True</td>\n",
              "    </tr>\n",
              "    <tr>\n",
              "      <td id=\"T_5730a_row5_col0\" class=\"data row5 col0\" >False</td>\n",
              "      <td id=\"T_5730a_row5_col1\" class=\"data row5 col1\" >True</td>\n",
              "      <td id=\"T_5730a_row5_col2\" class=\"data row5 col2\" >False</td>\n",
              "      <td id=\"T_5730a_row5_col3\" class=\"data row5 col3\" >True</td>\n",
              "      <td id=\"T_5730a_row5_col4\" class=\"data row5 col4\" >False</td>\n",
              "      <td id=\"T_5730a_row5_col5\" class=\"data row5 col5\" >True</td>\n",
              "      <td id=\"T_5730a_row5_col6\" class=\"data row5 col6\" >True</td>\n",
              "    </tr>\n",
              "    <tr>\n",
              "      <td id=\"T_5730a_row6_col0\" class=\"data row6 col0\" >False</td>\n",
              "      <td id=\"T_5730a_row6_col1\" class=\"data row6 col1\" >False</td>\n",
              "      <td id=\"T_5730a_row6_col2\" class=\"data row6 col2\" >True</td>\n",
              "      <td id=\"T_5730a_row6_col3\" class=\"data row6 col3\" >False</td>\n",
              "      <td id=\"T_5730a_row6_col4\" class=\"data row6 col4\" >True</td>\n",
              "      <td id=\"T_5730a_row6_col5\" class=\"data row6 col5\" >True</td>\n",
              "      <td id=\"T_5730a_row6_col6\" class=\"data row6 col6\" >True</td>\n",
              "    </tr>\n",
              "    <tr>\n",
              "      <td id=\"T_5730a_row7_col0\" class=\"data row7 col0\" >False</td>\n",
              "      <td id=\"T_5730a_row7_col1\" class=\"data row7 col1\" >False</td>\n",
              "      <td id=\"T_5730a_row7_col2\" class=\"data row7 col2\" >False</td>\n",
              "      <td id=\"T_5730a_row7_col3\" class=\"data row7 col3\" >False</td>\n",
              "      <td id=\"T_5730a_row7_col4\" class=\"data row7 col4\" >True</td>\n",
              "      <td id=\"T_5730a_row7_col5\" class=\"data row7 col5\" >False</td>\n",
              "      <td id=\"T_5730a_row7_col6\" class=\"data row7 col6\" >False</td>\n",
              "    </tr>\n",
              "  </tbody>\n",
              "</table>\n"
            ],
            "text/plain": [
              "<pandas.io.formats.style.Styler at 0x7f8a452484d0>"
            ]
          },
          "metadata": {},
          "execution_count": 7
        }
      ]
    },
    {
      "cell_type": "markdown",
      "source": [
        "The codding part is kinda hard to comprehend and the result on the truth table are quiet forward."
      ],
      "metadata": {
        "id": "7z0-6QpVQ7-h"
      }
    }
  ]
}