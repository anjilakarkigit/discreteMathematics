{
  "nbformat": 4,
  "nbformat_minor": 0,
  "metadata": {
    "colab": {
      "name": "Untitled0.ipynb",
      "provenance": [],
      "include_colab_link": true
    },
    "kernelspec": {
      "name": "python3",
      "display_name": "Python 3"
    }
  },
  "cells": [
    {
      "cell_type": "markdown",
      "metadata": {
        "id": "view-in-github",
        "colab_type": "text"
      },
      "source": [
        "<a href=\"https://colab.research.google.com/github/anjilakarkigit/discreteMathematics/blob/main/project2%20Function%20and%20relation.ipynb\" target=\"_parent\"><img src=\"https://colab.research.google.com/assets/colab-badge.svg\" alt=\"Open In Colab\"/></a>"
      ]
    },
    {
      "cell_type": "markdown",
      "metadata": {
        "id": "YCJaepmmfKrS"
      },
      "source": [
        "# Project Part 2 : CPSMA 3133 Dr. Jacob'sDiscrete Mathematics \n",
        "\n",
        "## Functions and relation\n",
        "\n",
        "### Anjila Karki and 267815\n",
        "\n",
        "\n"
      ]
    },
    {
      "cell_type": "markdown",
      "source": [
        "# Function"
      ],
      "metadata": {
        "id": "d4wbgf877CQp"
      }
    },
    {
      "cell_type": "markdown",
      "source": [
        "$$\n",
        "f(x)= \\frac{15x^2}{x\\pi^3}+2x^3\n",
        "$$"
      ],
      "metadata": {
        "id": "AYQYfGEp7JF5"
      }
    },
    {
      "cell_type": "markdown",
      "source": [
        "This is a function I am going to use for this part of my project.Now that I have defined a function I am going to see if the function works or not."
      ],
      "metadata": {
        "id": "Xf4CXBRH7iXm"
      }
    },
    {
      "cell_type": "code",
      "source": [
        "import math\n",
        "import numpy as np\n",
        "\n",
        "def random(x):\n",
        "  return ((15*x**2)/(x*math.pi**3))+ (2*x**3)"
      ],
      "metadata": {
        "id": "b6tfAXvl8vjD"
      },
      "execution_count": 1,
      "outputs": []
    },
    {
      "cell_type": "markdown",
      "source": [
        "On the above cell I have used called some pacakages and defined the function mathematically using python. Now, I will be looking at how it works."
      ],
      "metadata": {
        "id": "x1J9bMIJ9PRL"
      }
    },
    {
      "cell_type": "code",
      "source": [
        "random(4)"
      ],
      "metadata": {
        "id": "rWSNJEmY9NgA",
        "outputId": "62835d2c-1d33-44e3-83b4-eb6e2ffebdd6",
        "colab": {
          "base_uri": "https://localhost:8080/"
        }
      },
      "execution_count": 2,
      "outputs": [
        {
          "output_type": "execute_result",
          "data": {
            "text/plain": [
              "129.93509206599197"
            ]
          },
          "metadata": {},
          "execution_count": 2
        }
      ]
    },
    {
      "cell_type": "markdown",
      "source": [
        "Lets, try one more with three digits number."
      ],
      "metadata": {
        "id": "6n4vSDaL9mM8"
      }
    },
    {
      "cell_type": "code",
      "source": [
        "random(100)"
      ],
      "metadata": {
        "id": "gh1R5jc39jLv",
        "outputId": "9a876a4f-e018-43dd-83b3-7c050e038b37",
        "colab": {
          "base_uri": "https://localhost:8080/"
        }
      },
      "execution_count": 3,
      "outputs": [
        {
          "output_type": "execute_result",
          "data": {
            "text/plain": [
              "2000048.37730165"
            ]
          },
          "metadata": {},
          "execution_count": 3
        }
      ]
    },
    {
      "cell_type": "markdown",
      "source": [
        "Now that, I can see my functoin is worrking, Its time to plot a graph and see how it behavaes."
      ],
      "metadata": {
        "id": "0VmmicXI9scu"
      }
    },
    {
      "cell_type": "code",
      "source": [
        "import matplotlib.pyplot as plt \n",
        "\n",
        "x=np.arange(-1,200,.1)\n",
        "plt.plot(x,random(x))"
      ],
      "metadata": {
        "id": "Wr9By69b-kAH",
        "outputId": "8837c7c6-e01a-42fa-fe48-b3dcfa40ab00",
        "colab": {
          "base_uri": "https://localhost:8080/",
          "height": 293
        }
      },
      "execution_count": 5,
      "outputs": [
        {
          "output_type": "execute_result",
          "data": {
            "text/plain": [
              "[<matplotlib.lines.Line2D at 0x7fba4e8d4450>]"
            ]
          },
          "metadata": {},
          "execution_count": 5
        },
        {
          "output_type": "display_data",
          "data": {
            "image/png": "[encoded data removed]",
            "text/plain": [
              "<Figure size 432x288 with 1 Axes>"
            ]
          },
          "metadata": {
            "needs_background": "light"
          }
        }
      ]
    },
    {
      "cell_type": "markdown",
      "source": [
        "Its more like a cure from the graph."
      ],
      "metadata": {
        "id": "8qKhG7SL-7Re"
      }
    },
    {
      "cell_type": "markdown",
      "source": [
        "# Dictionary"
      ],
      "metadata": {
        "id": "GqkWM7Ae-_8g"
      }
    },
    {
      "cell_type": "code",
      "source": [
        "A = {'bacon', 'egg', 'mutton', 'peanuts'}\n",
        "B = {'avocado', 'egg', 'salmon', 'almonds'}\n",
        "\n",
        "dictionary = dict({a:b for a,b in zip(A,B)})"
      ],
      "metadata": {
        "id": "c3uT55b7_G2q"
      },
      "execution_count": 6,
      "outputs": []
    },
    {
      "cell_type": "code",
      "source": [
        "dictionary"
      ],
      "metadata": {
        "id": "KLLpjV3x_uCg",
        "outputId": "9e0bcff1-cee2-4d06-c7e7-e601edea47e0",
        "colab": {
          "base_uri": "https://localhost:8080/"
        }
      },
      "execution_count": 7,
      "outputs": [
        {
          "output_type": "execute_result",
          "data": {
            "text/plain": [
              "{'bacon': 'almonds', 'egg': 'egg', 'mutton': 'avocado', 'peanuts': 'salmon'}"
            ]
          },
          "metadata": {},
          "execution_count": 7
        }
      ]
    },
    {
      "cell_type": "code",
      "source": [
        "actualdictionary = dict({'bacon':'mutton', 'egg':'salmon','bacon':'egg'})"
      ],
      "metadata": {
        "id": "l2wjNCpj__aN"
      },
      "execution_count": 8,
      "outputs": []
    },
    {
      "cell_type": "code",
      "source": [
        "keto = [actualdictionary.get(x,x) for x in A]"
      ],
      "metadata": {
        "id": "kwYKLVPaAYLl"
      },
      "execution_count": 11,
      "outputs": []
    },
    {
      "cell_type": "code",
      "source": [
        "keto"
      ],
      "metadata": {
        "id": "rvszWpe4AkXG",
        "outputId": "3a414d51-623c-420f-c2aa-bc22843efc02",
        "colab": {
          "base_uri": "https://localhost:8080/"
        }
      },
      "execution_count": 12,
      "outputs": [
        {
          "output_type": "execute_result",
          "data": {
            "text/plain": [
              "['mutton', 'egg', 'salmon', 'peanuts']"
            ]
          },
          "metadata": {},
          "execution_count": 12
        }
      ]
    },
    {
      "cell_type": "markdown",
      "source": [
        "After, my creating a dictionary I will taking about some findings. The functions is not bijective because it is not ono to one function and onto function because the elements in the domain and co-domain are not related.\n",
        "\n",
        "Due to the following reason this set is not symmetric and transitive neighter.so, this set cannot possobly be a equivalance set.\n",
        "\n",
        "Now lets find the number of relation of this set."
      ],
      "metadata": {
        "id": "bf6G-XJ3AtKN"
      }
    },
    {
      "cell_type": "code",
      "source": [
        "s =len(keto)\n",
        "2**s"
      ],
      "metadata": {
        "id": "QFm8A3DMCQ20",
        "outputId": "1e038010-7cda-4597-9d04-c5ce531d208f",
        "colab": {
          "base_uri": "https://localhost:8080/"
        }
      },
      "execution_count": 14,
      "outputs": [
        {
          "output_type": "execute_result",
          "data": {
            "text/plain": [
              "16"
            ]
          },
          "metadata": {},
          "execution_count": 14
        }
      ]
    },
    {
      "cell_type": "markdown",
      "source": [
        "there are total 16 relations possible."
      ],
      "metadata": {
        "id": "UMuVzjNHCgQG"
      }
    }
  ]
}