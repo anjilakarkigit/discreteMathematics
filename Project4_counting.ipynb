{
  "nbformat": 4,
  "nbformat_minor": 0,
  "metadata": {
    "colab": {
      "name": "Untitled0.ipynb",
      "provenance": [],
      "include_colab_link": true
    },
    "kernelspec": {
      "name": "python3",
      "display_name": "Python 3"
    }
  },
  "cells": [
    {
      "cell_type": "markdown",
      "metadata": {
        "id": "view-in-github",
        "colab_type": "text"
      },
      "source": [
        "<a href=\"https://colab.research.google.com/github/anjilakarkigit/discreteMathematics/blob/main/Project4_counting.ipynb\" target=\"_parent\"><img src=\"https://colab.research.google.com/assets/colab-badge.svg\" alt=\"Open In Colab\"/></a>"
      ]
    },
    {
      "cell_type": "markdown",
      "metadata": {
        "id": "YCJaepmmfKrS"
      },
      "source": [
        "# Project Part 4 : CPSMA 3133 Dr. Jacob's Discrete Mathematics \n",
        "\n",
        "## Counting\n",
        "\n",
        "### Anjila Karki and 267815\n",
        "\n",
        "\n"
      ]
    },
    {
      "cell_type": "markdown",
      "source": [
        "# Counting"
      ],
      "metadata": {
        "id": "Spe4rx2X1Rm1"
      }
    },
    {
      "cell_type": "code",
      "source": [
        "possibleProtein = ['beef','chicken','pork']"
      ],
      "metadata": {
        "id": "g-j-U52K151W"
      },
      "execution_count": 2,
      "outputs": []
    },
    {
      "cell_type": "markdown",
      "source": [
        "For the counting part of the project, I will be looking at the different protein on a keto diet that is mostly connsumed by an individual.I have three different types of protein option on my sequence of ten.Therefore, there are $3^{10}$ possibilities.\n",
        "\n",
        "$$ 3*3*3\\dots *3 = 3^{10} $$"
      ],
      "metadata": {
        "id": "oyvy9tDv1VxF"
      }
    },
    {
      "cell_type": "code",
      "source": [
        "3**10"
      ],
      "metadata": {
        "id": "evSCSvcB1jkg",
        "outputId": "74c363db-deaa-4ca4-b927-d38d0507c21c",
        "colab": {
          "base_uri": "https://localhost:8080/"
        }
      },
      "execution_count": 3,
      "outputs": [
        {
          "output_type": "execute_result",
          "data": {
            "text/plain": [
              "59049"
            ]
          },
          "metadata": {},
          "execution_count": 3
        }
      ]
    },
    {
      "cell_type": "markdown",
      "source": [
        "So, from the result there are total 59049 number of possibilities."
      ],
      "metadata": {
        "id": "Uj-VicoP3tBd"
      }
    },
    {
      "cell_type": "markdown",
      "source": [
        "Now, on the next part we can use pigeanhole principle where n is the number spaces and m is the number of categories.from the above condition we have 10 spaces to fill three categories.\n",
        "\n",
        "$$\n",
        "\\frac{(n+m-1)!}{n!(m-1)!}\n",
        "$$"
      ],
      "metadata": {
        "id": "sr4eTC0t4h1l"
      }
    },
    {
      "cell_type": "code",
      "source": [
        "import math\n",
        "\n",
        "math.factorial(12)/(math.factorial(10)*math.factorial(2))"
      ],
      "metadata": {
        "id": "0LRiPSkk5bur",
        "outputId": "5d5bed9a-be80-402e-8ad6-f5d2ea714044",
        "colab": {
          "base_uri": "https://localhost:8080/"
        }
      },
      "execution_count": 5,
      "outputs": [
        {
          "output_type": "execute_result",
          "data": {
            "text/plain": [
              "66.0"
            ]
          },
          "metadata": {},
          "execution_count": 5
        }
      ]
    },
    {
      "cell_type": "markdown",
      "source": [
        "So, there is only 66 possibilities if the order didn't matter, and if I compare the the both the possibilities there is a huge difference."
      ],
      "metadata": {
        "id": "NDa2SwjT7Rf9"
      }
    },
    {
      "cell_type": "markdown",
      "source": [
        "Now, I am going to look at the possible outcomes if not allowed to select an item multiple times. There are two condition which are order matters and order doesn't matters.If not allowed to repeat the categories we cannot fill 10 spaces. We can only have 3 spaces maximum for 3 categories.\n",
        "\n",
        "Lets look at if the order matter first. The possible outcome if the order matter is $3!$"
      ],
      "metadata": {
        "id": "O4-xyYzr8XeL"
      }
    },
    {
      "cell_type": "code",
      "source": [
        "math.factorial(3)"
      ],
      "metadata": {
        "id": "vd-j92jo9RzS",
        "outputId": "c83c29c5-61ad-4611-9171-df9cdc292a8c",
        "colab": {
          "base_uri": "https://localhost:8080/"
        }
      },
      "execution_count": 6,
      "outputs": [
        {
          "output_type": "execute_result",
          "data": {
            "text/plain": [
              "6"
            ]
          },
          "metadata": {},
          "execution_count": 6
        }
      ]
    },
    {
      "cell_type": "code",
      "source": [
        "from itertools import permutations\n",
        "print(list(permutations(possibleProtein,3)))"
      ],
      "metadata": {
        "id": "IUoEiQDl-TJn",
        "outputId": "4aecfaf0-cfc5-416e-d8a8-d619eaf41100",
        "colab": {
          "base_uri": "https://localhost:8080/"
        }
      },
      "execution_count": 8,
      "outputs": [
        {
          "output_type": "stream",
          "name": "stdout",
          "text": [
            "[('beef', 'chicken', 'pork'), ('beef', 'pork', 'chicken'), ('chicken', 'beef', 'pork'), ('chicken', 'pork', 'beef'), ('pork', 'beef', 'chicken'), ('pork', 'chicken', 'beef')]\n"
          ]
        }
      ]
    },
    {
      "cell_type": "markdown",
      "source": [
        "So, there are 6 possible outcome if the order matter,Which are listed below the number of outcomes.\n",
        "\n",
        "Now, for it the order doesn't matter, we use \n",
        "\n",
        "$nCm = \\frac{3!}{0!.3!}$\n"
      ],
      "metadata": {
        "id": "Gg06UlxO9cU3"
      }
    },
    {
      "cell_type": "code",
      "source": [
        "math.factorial(3)/(math.factorial(0)*math.factorial(3))"
      ],
      "metadata": {
        "id": "Dno4hH1J98_-",
        "outputId": "06679438-3e5f-4e41-b561-912219ac6461",
        "colab": {
          "base_uri": "https://localhost:8080/"
        }
      },
      "execution_count": 7,
      "outputs": [
        {
          "output_type": "execute_result",
          "data": {
            "text/plain": [
              "1.0"
            ]
          },
          "metadata": {},
          "execution_count": 7
        }
      ]
    },
    {
      "cell_type": "code",
      "source": [
        "from itertools import combinations\n",
        "print(list(combinations(possibleProtein,3)))"
      ],
      "metadata": {
        "id": "_4CYLHdP-kgK",
        "outputId": "a69bd8d5-b8de-432a-e232-58e466ac326c",
        "colab": {
          "base_uri": "https://localhost:8080/"
        }
      },
      "execution_count": 9,
      "outputs": [
        {
          "output_type": "stream",
          "name": "stdout",
          "text": [
            "[('beef', 'chicken', 'pork')]\n"
          ]
        }
      ]
    },
    {
      "cell_type": "markdown",
      "source": [
        "So, from the result I can see only one possible outcome, which is listed above."
      ],
      "metadata": {
        "id": "WxyluCQ0-IVY"
      }
    },
    {
      "cell_type": "markdown",
      "source": [
        "Now, on the next part, we can calculate the 5th term polynomial $(x-3)^9$ by the formula:\n",
        "\n",
        "$$\n",
        "T{r+1} = nCrx^{n-r}y^r\n",
        "$$\n",
        "\n",
        "$$\n",
        "T{4+1} = 9C4x^{5}(-3)^4\n",
        "$$"
      ],
      "metadata": {
        "id": "zCtm6Q_f-_kq"
      }
    },
    {
      "cell_type": "code",
      "source": [
        "(math.factorial(9)/(math.factorial(5)*math.factorial(4)))*((-3)**4)"
      ],
      "metadata": {
        "id": "TEaVJX9e_4L1",
        "outputId": "6af71e3e-c002-45f6-e9ad-5c68d03fd21f",
        "colab": {
          "base_uri": "https://localhost:8080/"
        }
      },
      "execution_count": 10,
      "outputs": [
        {
          "output_type": "execute_result",
          "data": {
            "text/plain": [
              "10206.0"
            ]
          },
          "metadata": {},
          "execution_count": 10
        }
      ]
    },
    {
      "cell_type": "markdown",
      "source": [
        "So, the fifth term is $$10206x^5$$"
      ],
      "metadata": {
        "id": "Q4I0CPxAAN09"
      }
    }
  ]
}