{
  "nbformat": 4,
  "nbformat_minor": 0,
  "metadata": {
    "colab": {
      "name": "Untitled0.ipynb",
      "provenance": [],
      "include_colab_link": true
    },
    "kernelspec": {
      "name": "python3",
      "display_name": "Python 3"
    }
  },
  "cells": [
    {
      "cell_type": "markdown",
      "metadata": {
        "id": "view-in-github",
        "colab_type": "text"
      },
      "source": [
        "<a href=\"https://colab.research.google.com/github/anjilakarkigit/discreteMathematics/blob/main/Numbers_project6.ipynb\" target=\"_parent\"><img src=\"https://colab.research.google.com/assets/colab-badge.svg\" alt=\"Open In Colab\"/></a>"
      ]
    },
    {
      "cell_type": "markdown",
      "metadata": {
        "id": "YCJaepmmfKrS"
      },
      "source": [
        "# Project Part 6: CPSMA 3133 [Dr. Jacob's](https://github.com/nurfnick) Discrete Mathematics \n",
        "\n",
        "## Numbers\n",
        "\n",
        "### Anjila Karki and 267815\n",
        "\n",
        "\n"
      ]
    },
    {
      "cell_type": "markdown",
      "source": [
        "First, I will be converting the number 24036 frrorm base 7 to 10."
      ],
      "metadata": {
        "id": "dowfk5xzHND_"
      }
    },
    {
      "cell_type": "code",
      "source": [
        "(2*7**4)+(4*7**3)+(0*7**2)+(3*7**1)+(6*7**0)"
      ],
      "metadata": {
        "id": "EZzdJU-IH-jo",
        "outputId": "b77e350a-eca3-4901-a529-31fbbd09c343",
        "colab": {
          "base_uri": "https://localhost:8080/"
        }
      },
      "execution_count": 10,
      "outputs": [
        {
          "output_type": "execute_result",
          "data": {
            "text/plain": [
              "6201"
            ]
          },
          "metadata": {},
          "execution_count": 10
        }
      ]
    },
    {
      "cell_type": "code",
      "source": [
        "base = int('24036',7)\n",
        "base"
      ],
      "metadata": {
        "id": "2DLItS8OISoA",
        "outputId": "71e07531-9d5a-425a-cfe5-dbd19337904c",
        "colab": {
          "base_uri": "https://localhost:8080/"
        }
      },
      "execution_count": 11,
      "outputs": [
        {
          "output_type": "execute_result",
          "data": {
            "text/plain": [
              "6201"
            ]
          },
          "metadata": {},
          "execution_count": 11
        }
      ]
    },
    {
      "cell_type": "markdown",
      "source": [
        "Here, I used two method to convert the number.On the first method I used mathmatical approach by multiplying by seven and their respective power.On the second I used a bulit in python function.Both of them gave same result.\n",
        "\n",
        "Now, I will be converting the number 72e3 from base 16 to 10."
      ],
      "metadata": {
        "id": "yxi-my9jITrg"
      }
    },
    {
      "cell_type": "code",
      "source": [
        "(7*16**3)+(2*16**2)+(14*16**1)+(3*16**0)"
      ],
      "metadata": {
        "id": "L6o4YsGUIvn0",
        "outputId": "49450268-e72f-4ec9-d9e0-25832474cb65",
        "colab": {
          "base_uri": "https://localhost:8080/"
        }
      },
      "execution_count": 12,
      "outputs": [
        {
          "output_type": "execute_result",
          "data": {
            "text/plain": [
              "29411"
            ]
          },
          "metadata": {},
          "execution_count": 12
        }
      ]
    },
    {
      "cell_type": "code",
      "source": [
        "x = 0\n",
        "y = 0\n",
        "number = '72e3'\n",
        "numberLength = len(number)\n",
        "\n",
        "for i in number:\n",
        "    \n",
        "    y += 1\n",
        "    if i == 'a':\n",
        "      I = 10\n",
        "\n",
        "    elif i == 'b':\n",
        "      I = 11\n",
        "\n",
        "    elif i == 'c':\n",
        "      I = 12\n",
        "\n",
        "    elif i == 'd':\n",
        "      I = 13\n",
        "\n",
        "    elif i == 'e':\n",
        "      I = 14\n",
        "\n",
        "    elif i == 'f':\n",
        "      I = 15\n",
        "\n",
        "    else:\n",
        "      I = int(i)\n",
        "\n",
        "    x += I * (16**(numberLength - y))\n",
        "x"
      ],
      "metadata": {
        "id": "hlXYqfiYJf15",
        "outputId": "62db62f9-1143-49b5-b7a3-a53510684298",
        "colab": {
          "base_uri": "https://localhost:8080/"
        }
      },
      "execution_count": 13,
      "outputs": [
        {
          "output_type": "execute_result",
          "data": {
            "text/plain": [
              "29411"
            ]
          },
          "metadata": {},
          "execution_count": 13
        }
      ]
    },
    {
      "cell_type": "markdown",
      "source": [
        "On the second also I have two method to convert the number.On the first method I used simply mathmatics by multiplying by 16. On the second method I used a for loop to storee the value and prrint it out.\n",
        "\n",
        "Now, I will be converting to the number 3735928559 from base 10 to 16."
      ],
      "metadata": {
        "id": "BeoY_it7JiDu"
      }
    },
    {
      "cell_type": "code",
      "source": [
        "hex(3735928559)"
      ],
      "metadata": {
        "id": "6n8nGTiiK5Ag",
        "outputId": "266fd8b8-4c5c-4c45-c89f-e780f26ce894",
        "colab": {
          "base_uri": "https://localhost:8080/",
          "height": 35
        }
      },
      "execution_count": 14,
      "outputs": [
        {
          "output_type": "execute_result",
          "data": {
            "application/vnd.google.colaboratory.intrinsic+json": {
              "type": "string"
            },
            "text/plain": [
              "'0xdeadbeef'"
            ]
          },
          "metadata": {},
          "execution_count": 14
        }
      ]
    },
    {
      "cell_type": "markdown",
      "source": [
        "On this part, I just useed  bulit in python function to convert the function.\n",
        "\n",
        "Now, for the last part I will be calculating the two's complement for 25 - 37."
      ],
      "metadata": {
        "id": "O8koYoG1LkU2"
      }
    },
    {
      "cell_type": "code",
      "source": [
        "Num1 = '00011001'      \n",
        "Num2 = '00100101'      \n",
        "Num2Complement = '1'   \n",
        "x = 0\n",
        "\n",
        "for i in Num2:\n",
        "  if (x != 0):   \n",
        "    if (x != 7):     \n",
        "      if (Num2[x] == '0'):     \n",
        "        Num2Complement += '1'      \n",
        "\n",
        "      else:           \n",
        "        Num2Complement += '0'\n",
        "    else:             \n",
        "        Num2Complement += '1'    \n",
        "  x += 1\n",
        "print(\"Compliment of Number 2:\", Num2Complement)\n",
        "\n",
        "add = bin(int(Num1, 2) + int(Num2Complement, 2))[2:]\n",
        "print(\"Adding 25 and -37:\", add)"
      ],
      "metadata": {
        "id": "_2IR92DYPERj",
        "outputId": "ab8b2189-c84b-4c68-af45-874c08cb9198",
        "colab": {
          "base_uri": "https://localhost:8080/"
        }
      },
      "execution_count": 18,
      "outputs": [
        {
          "output_type": "stream",
          "name": "stdout",
          "text": [
            "Compliment of Number 2: 11011011\n",
            "Adding 25 and -37: 11110100\n"
          ]
        }
      ]
    },
    {
      "cell_type": "code",
      "source": [
        "print(25-37)"
      ],
      "metadata": {
        "id": "Mu4HezS3PMrz",
        "outputId": "eaf0e696-0b5c-44c6-af6c-f33a1229e505",
        "colab": {
          "base_uri": "https://localhost:8080/"
        }
      },
      "execution_count": 21,
      "outputs": [
        {
          "output_type": "stream",
          "name": "stdout",
          "text": [
            "-12\n"
          ]
        }
      ]
    },
    {
      "cell_type": "markdown",
      "source": [
        "On thee last part, first I converted the number into binary and used a for loop to store and print the two's complement.\n",
        "\n",
        "This project really exciting for me, I have learned the conversion long time ago but had never used python to calculate it. "
      ],
      "metadata": {
        "id": "mGuo-w-GPb_q"
      }
    }
  ]
}