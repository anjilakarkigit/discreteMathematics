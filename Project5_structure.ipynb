{
  "nbformat": 4,
  "nbformat_minor": 0,
  "metadata": {
    "colab": {
      "name": "Untitled0.ipynb",
      "provenance": [],
      "include_colab_link": true
    },
    "kernelspec": {
      "name": "python3",
      "display_name": "Python 3"
    }
  },
  "cells": [
    {
      "cell_type": "markdown",
      "metadata": {
        "id": "view-in-github",
        "colab_type": "text"
      },
      "source": [
        "<a href=\"https://colab.research.google.com/github/anjilakarkigit/discreteMathematics/blob/main/Project5_structure.ipynb\" target=\"_parent\"><img src=\"https://colab.research.google.com/assets/colab-badge.svg\" alt=\"Open In Colab\"/></a>"
      ]
    },
    {
      "cell_type": "markdown",
      "metadata": {
        "id": "YCJaepmmfKrS"
      },
      "source": [
        "# Project Part 5 : CPSMA 3133 Dr. Jacob's Discrete Mathematics \n",
        "\n",
        "## Structures\n",
        "\n",
        "### Anjila Karki, 267815\n",
        "\n",
        "\n"
      ]
    },
    {
      "cell_type": "markdown",
      "source": [
        "For this project I am going to see graphically all the food that I eat during my keto diet during a week."
      ],
      "metadata": {
        "id": "xgeo3PRxrJYY"
      }
    },
    {
      "cell_type": "code",
      "source": [
        "!pip install anytree"
      ],
      "metadata": {
        "id": "9e94M41Rvcm8",
        "outputId": "4a65350e-f959-49ae-b4be-62b46bc67f4f",
        "colab": {
          "base_uri": "https://localhost:8080/"
        }
      },
      "execution_count": 14,
      "outputs": [
        {
          "output_type": "stream",
          "name": "stdout",
          "text": [
            "Collecting anytree\n",
            "  Downloading anytree-2.8.0-py2.py3-none-any.whl (41 kB)\n",
            "\u001b[?25l\r\u001b[K     |███████▉                        | 10 kB 19.1 MB/s eta 0:00:01\r\u001b[K     |███████████████▊                | 20 kB 26.0 MB/s eta 0:00:01\r\u001b[K     |███████████████████████▋        | 30 kB 16.0 MB/s eta 0:00:01\r\u001b[K     |███████████████████████████████▍| 40 kB 11.6 MB/s eta 0:00:01\r\u001b[K     |████████████████████████████████| 41 kB 473 kB/s \n",
            "\u001b[?25hRequirement already satisfied: six>=1.9.0 in /usr/local/lib/python3.7/dist-packages (from anytree) (1.15.0)\n",
            "Installing collected packages: anytree\n",
            "Successfully installed anytree-2.8.0\n"
          ]
        }
      ]
    },
    {
      "cell_type": "markdown",
      "source": [
        "On the above code, I just installed the anytree which is going to help me grraph the tree."
      ],
      "metadata": {
        "id": "spn5P5fa1FLw"
      }
    },
    {
      "cell_type": "code",
      "source": [
        "import graphviz"
      ],
      "metadata": {
        "id": "Dkl-1FtVraya"
      },
      "execution_count": 15,
      "outputs": []
    },
    {
      "cell_type": "code",
      "source": [
        "keto = graphviz.Digraph('ketodiet')\n",
        "\n",
        "keto.node('Diet')\n",
        "\n",
        "keto.edge('Diet','monday')\n",
        "keto.edge('Diet','tuesday')\n",
        "keto.edge('Diet','wednesday')\n",
        "keto.edge('Diet','thursday')\n",
        "keto.edge('Diet','friday')\n",
        "keto.edge('Diet','saturday')\n",
        "keto.edge('Diet','sunday')\n",
        "\n",
        "keto.edge('monday','chicken',label='protein')\n",
        "keto.edge('chicken','brocoli',label='veggie')\n",
        "keto.edge('chicken','salmon',label='fat')\n",
        "keto.edge('tuesday','pork',label='protein')\n",
        "keto.edge('pork','beans',label='veggie')\n",
        "keto.edge('beans','avocado',label='fat')\n",
        "keto.edge('wednesday','beef',label='protein')\n",
        "keto.edge('beef','spinach',label='veggie')\n",
        "keto.edge('spinach','bacon',label='fat')\n",
        "keto.edge('thursday','pork',label='protein')\n",
        "keto.edge('pork','lettuce',label='veggie')\n",
        "keto.edge('lettuce','cheese',label='fat')\n",
        "keto.edge('friday','chicken',label='protein')\n",
        "keto.edge('chicken','brocoli',label='veggie')\n",
        "keto.edge('chicken','salmon',label='fat')\n",
        "keto.edge('saturday','beef',label='protein')\n",
        "keto.edge('beef','brocoli',label='veggie')\n",
        "keto.edge('beef','avocado',label='veggie')\n",
        "keto.edge('sunday','chicken',label='protein')\n",
        "keto.edge('chicken','cabbage',label='veggie')\n",
        "keto.edge('chicken','salmon',label='fat')\n",
        "keto\n"
      ],
      "metadata": {
        "id": "a7RpL6A6ra7T",
        "outputId": "9300e2e1-e759-4392-afe7-296190fc3272",
        "colab": {
          "base_uri": "https://localhost:8080/",
          "height": 525
        }
      },
      "execution_count": 35,
      "outputs": [
        {
          "output_type": "execute_result",
          "data": {
            "text/plain": [
              "<graphviz.dot.Digraph at 0x7facf8415b90>"
            ],
            "image/svg+xml": "<?xml version=\"1.0\" encoding=\"UTF-8\" standalone=\"no\"?>\n<!DOCTYPE svg PUBLIC \"-//W3C//DTD SVG 1.1//EN\"\n \"http://www.w3.org/Graphics/SVG/1.1/DTD/svg11.dtd\">\n<!-- Generated by graphviz version 2.40.1 (20161225.0304)\n -->\n<!-- Title: ketodiet Pages: 1 -->\n<svg width=\"717pt\" height=\"378pt\"\n viewBox=\"0.00 0.00 717.04 378.00\" xmlns=\"http://www.w3.org/2000/svg\" xmlns:xlink=\"http://www.w3.org/1999/xlink\">\n<g id=\"graph0\" class=\"graph\" transform=\"scale(1 1) rotate(0) translate(4 374)\">\n<title>ketodiet</title>\n<polygon fill=\"#ffffff\" stroke=\"transparent\" points=\"-4,4 -4,-374 713.0433,-374 713.0433,4 -4,4\"/>\n<!-- Diet -->\n<g id=\"node1\" class=\"node\">\n<title>Diet</title>\n<ellipse fill=\"none\" stroke=\"#000000\" cx=\"389.4469\" cy=\"-352\" rx=\"27\" ry=\"18\"/>\n<text text-anchor=\"middle\" x=\"389.4469\" y=\"-348.3\" font-family=\"Times,serif\" font-size=\"14.00\" fill=\"#000000\">Diet</text>\n</g>\n<!-- monday -->\n<g id=\"node2\" class=\"node\">\n<title>monday</title>\n<ellipse fill=\"none\" stroke=\"#000000\" cx=\"667.4469\" cy=\"-279\" rx=\"41.6928\" ry=\"18\"/>\n<text text-anchor=\"middle\" x=\"667.4469\" y=\"-275.3\" font-family=\"Times,serif\" font-size=\"14.00\" fill=\"#000000\">monday</text>\n</g>\n<!-- Diet&#45;&gt;monday -->\n<g id=\"edge1\" class=\"edge\">\n<title>Diet&#45;&gt;monday</title>\n<path fill=\"none\" stroke=\"#000000\" d=\"M415.3355,-346.7166C457.8819,-337.8196 545.0921,-318.6807 617.4469,-297 620.4007,-296.1149 623.4354,-295.1542 626.4796,-294.1525\"/>\n<polygon fill=\"#000000\" stroke=\"#000000\" points=\"627.8114,-297.3964 636.1474,-290.857 625.5529,-290.7707 627.8114,-297.3964\"/>\n</g>\n<!-- tuesday -->\n<g id=\"node3\" class=\"node\">\n<title>tuesday</title>\n<ellipse fill=\"none\" stroke=\"#000000\" cx=\"64.4469\" cy=\"-279\" rx=\"38.9931\" ry=\"18\"/>\n<text text-anchor=\"middle\" x=\"64.4469\" y=\"-275.3\" font-family=\"Times,serif\" font-size=\"14.00\" fill=\"#000000\">tuesday</text>\n</g>\n<!-- Diet&#45;&gt;tuesday -->\n<g id=\"edge2\" class=\"edge\">\n<title>Diet&#45;&gt;tuesday</title>\n<path fill=\"none\" stroke=\"#000000\" d=\"M362.7526,-348.1816C312.9525,-340.7328 202.7486,-322.7115 112.4469,-297 109.5032,-296.1618 106.4841,-295.224 103.463,-294.2284\"/>\n<polygon fill=\"#000000\" stroke=\"#000000\" points=\"104.4918,-290.8807 93.897,-290.9033 102.1934,-297.4926 104.4918,-290.8807\"/>\n</g>\n<!-- wednesday -->\n<g id=\"node4\" class=\"node\">\n<title>wednesday</title>\n<ellipse fill=\"none\" stroke=\"#000000\" cx=\"277.4469\" cy=\"-279\" rx=\"51.9908\" ry=\"18\"/>\n<text text-anchor=\"middle\" x=\"277.4469\" y=\"-275.3\" font-family=\"Times,serif\" font-size=\"14.00\" fill=\"#000000\">wednesday</text>\n</g>\n<!-- Diet&#45;&gt;wednesday -->\n<g id=\"edge3\" class=\"edge\">\n<title>Diet&#45;&gt;wednesday</title>\n<path fill=\"none\" stroke=\"#000000\" d=\"M369.938,-339.2844C353.6332,-328.6571 330.0182,-313.2652 310.7316,-300.6944\"/>\n<polygon fill=\"#000000\" stroke=\"#000000\" points=\"312.5053,-297.6727 302.2165,-295.1445 308.683,-303.5371 312.5053,-297.6727\"/>\n</g>\n<!-- thursday -->\n<g id=\"node5\" class=\"node\">\n<title>thursday</title>\n<ellipse fill=\"none\" stroke=\"#000000\" cx=\"164.4469\" cy=\"-279\" rx=\"42.7926\" ry=\"18\"/>\n<text text-anchor=\"middle\" x=\"164.4469\" y=\"-275.3\" font-family=\"Times,serif\" font-size=\"14.00\" fill=\"#000000\">thursday</text>\n</g>\n<!-- Diet&#45;&gt;thursday -->\n<g id=\"edge4\" class=\"edge\">\n<title>Diet&#45;&gt;thursday</title>\n<path fill=\"none\" stroke=\"#000000\" d=\"M364.7452,-344.3637C331.1184,-333.9188 269.0901,-314.4763 216.4469,-297 213.3642,-295.9766 210.1831,-294.9076 206.9842,-293.823\"/>\n<polygon fill=\"#000000\" stroke=\"#000000\" points=\"208.0086,-290.4745 197.4141,-290.5531 205.7453,-297.0985 208.0086,-290.4745\"/>\n</g>\n<!-- friday -->\n<g id=\"node6\" class=\"node\">\n<title>friday</title>\n<ellipse fill=\"none\" stroke=\"#000000\" cx=\"482.4469\" cy=\"-279\" rx=\"32.4942\" ry=\"18\"/>\n<text text-anchor=\"middle\" x=\"482.4469\" y=\"-275.3\" font-family=\"Times,serif\" font-size=\"14.00\" fill=\"#000000\">friday</text>\n</g>\n<!-- Diet&#45;&gt;friday -->\n<g id=\"edge5\" class=\"edge\">\n<title>Diet&#45;&gt;friday</title>\n<path fill=\"none\" stroke=\"#000000\" d=\"M406.9395,-338.2693C420.5245,-327.6058 439.6093,-312.6252 455.1925,-300.3933\"/>\n<polygon fill=\"#000000\" stroke=\"#000000\" points=\"457.7274,-302.853 463.4324,-293.9254 453.4052,-297.3467 457.7274,-302.853\"/>\n</g>\n<!-- saturday -->\n<g id=\"node7\" class=\"node\">\n<title>saturday</title>\n<ellipse fill=\"none\" stroke=\"#000000\" cx=\"389.4469\" cy=\"-279\" rx=\"42.4939\" ry=\"18\"/>\n<text text-anchor=\"middle\" x=\"389.4469\" y=\"-275.3\" font-family=\"Times,serif\" font-size=\"14.00\" fill=\"#000000\">saturday</text>\n</g>\n<!-- Diet&#45;&gt;saturday -->\n<g id=\"edge6\" class=\"edge\">\n<title>Diet&#45;&gt;saturday</title>\n<path fill=\"none\" stroke=\"#000000\" d=\"M389.4469,-333.9551C389.4469,-325.8828 389.4469,-316.1764 389.4469,-307.1817\"/>\n<polygon fill=\"#000000\" stroke=\"#000000\" points=\"392.947,-307.0903 389.4469,-297.0904 385.947,-307.0904 392.947,-307.0903\"/>\n</g>\n<!-- sunday -->\n<g id=\"node8\" class=\"node\">\n<title>sunday</title>\n<ellipse fill=\"none\" stroke=\"#000000\" cx=\"570.4469\" cy=\"-279\" rx=\"37.8943\" ry=\"18\"/>\n<text text-anchor=\"middle\" x=\"570.4469\" y=\"-275.3\" font-family=\"Times,serif\" font-size=\"14.00\" fill=\"#000000\">sunday</text>\n</g>\n<!-- Diet&#45;&gt;sunday -->\n<g id=\"edge7\" class=\"edge\">\n<title>Diet&#45;&gt;sunday</title>\n<path fill=\"none\" stroke=\"#000000\" d=\"M412.739,-342.606C442.8484,-330.4624 495.6957,-309.1483 531.8491,-294.5671\"/>\n<polygon fill=\"#000000\" stroke=\"#000000\" points=\"533.6058,-297.6326 541.5707,-290.6462 530.9874,-291.1407 533.6058,-297.6326\"/>\n</g>\n<!-- chicken -->\n<g id=\"node9\" class=\"node\">\n<title>chicken</title>\n<ellipse fill=\"none\" stroke=\"#000000\" cx=\"570.4469\" cy=\"-192\" rx=\"39.7935\" ry=\"18\"/>\n<text text-anchor=\"middle\" x=\"570.4469\" y=\"-188.3\" font-family=\"Times,serif\" font-size=\"14.00\" fill=\"#000000\">chicken</text>\n</g>\n<!-- monday&#45;&gt;chicken -->\n<g id=\"edge8\" class=\"edge\">\n<title>monday&#45;&gt;chicken</title>\n<path fill=\"none\" stroke=\"#000000\" d=\"M650.9966,-262.0218C640.966,-251.8848 627.7488,-238.9036 615.4469,-228 610.2152,-223.363 604.487,-218.5752 598.923,-214.0645\"/>\n<polygon fill=\"#000000\" stroke=\"#000000\" points=\"600.9621,-211.2138 590.9656,-207.7039 596.5914,-216.6816 600.9621,-211.2138\"/>\n<text text-anchor=\"middle\" x=\"652.9469\" y=\"-231.8\" font-family=\"Times,serif\" font-size=\"14.00\" fill=\"#000000\">protein</text>\n</g>\n<!-- pork -->\n<g id=\"node12\" class=\"node\">\n<title>pork</title>\n<ellipse fill=\"none\" stroke=\"#000000\" cx=\"102.4469\" cy=\"-192\" rx=\"28.6953\" ry=\"18\"/>\n<text text-anchor=\"middle\" x=\"102.4469\" y=\"-188.3\" font-family=\"Times,serif\" font-size=\"14.00\" fill=\"#000000\">pork</text>\n</g>\n<!-- tuesday&#45;&gt;pork -->\n<g id=\"edge11\" class=\"edge\">\n<title>tuesday&#45;&gt;pork</title>\n<path fill=\"none\" stroke=\"#000000\" d=\"M70.572,-260.8336C74.0501,-250.9924 78.6575,-238.6927 83.4469,-228 84.9067,-224.7409 86.5305,-221.3658 88.1967,-218.0475\"/>\n<polygon fill=\"#000000\" stroke=\"#000000\" points=\"91.3983,-219.4767 92.9036,-208.9893 85.1868,-216.249 91.3983,-219.4767\"/>\n<text text-anchor=\"middle\" x=\"103.9469\" y=\"-231.8\" font-family=\"Times,serif\" font-size=\"14.00\" fill=\"#000000\">protein</text>\n</g>\n<!-- beef -->\n<g id=\"node15\" class=\"node\">\n<title>beef</title>\n<ellipse fill=\"none\" stroke=\"#000000\" cx=\"282.4469\" cy=\"-192\" rx=\"27\" ry=\"18\"/>\n<text text-anchor=\"middle\" x=\"282.4469\" y=\"-188.3\" font-family=\"Times,serif\" font-size=\"14.00\" fill=\"#000000\">beef</text>\n</g>\n<!-- wednesday&#45;&gt;beef -->\n<g id=\"edge14\" class=\"edge\">\n<title>wednesday&#45;&gt;beef</title>\n<path fill=\"none\" stroke=\"#000000\" d=\"M278.4829,-260.9735C279.1601,-249.1918 280.0584,-233.5607 280.8287,-220.1581\"/>\n<polygon fill=\"#000000\" stroke=\"#000000\" points=\"284.3326,-220.1877 281.4123,-210.0034 277.3442,-219.786 284.3326,-220.1877\"/>\n<text text-anchor=\"middle\" x=\"300.9469\" y=\"-231.8\" font-family=\"Times,serif\" font-size=\"14.00\" fill=\"#000000\">protein</text>\n</g>\n<!-- thursday&#45;&gt;pork -->\n<g id=\"edge17\" class=\"edge\">\n<title>thursday&#45;&gt;pork</title>\n<path fill=\"none\" stroke=\"#000000\" d=\"M151.9003,-261.3943C142.8166,-248.6477 130.4092,-231.2374 120.2949,-217.0447\"/>\n<polygon fill=\"#000000\" stroke=\"#000000\" points=\"122.9977,-214.8065 114.3438,-208.694 117.2971,-218.869 122.9977,-214.8065\"/>\n<text text-anchor=\"middle\" x=\"157.9469\" y=\"-231.8\" font-family=\"Times,serif\" font-size=\"14.00\" fill=\"#000000\">protein</text>\n</g>\n<!-- friday&#45;&gt;chicken -->\n<g id=\"edge20\" class=\"edge\">\n<title>friday&#45;&gt;chicken</title>\n<path fill=\"none\" stroke=\"#000000\" d=\"M495.2336,-262.2049C503.4086,-251.8956 514.4989,-238.6697 525.4469,-228 530.4535,-223.1207 536.0796,-218.223 541.6139,-213.6804\"/>\n<polygon fill=\"#000000\" stroke=\"#000000\" points=\"543.9447,-216.2982 549.574,-207.3226 539.5761,-210.8287 543.9447,-216.2982\"/>\n<text text-anchor=\"middle\" x=\"545.9469\" y=\"-231.8\" font-family=\"Times,serif\" font-size=\"14.00\" fill=\"#000000\">protein</text>\n</g>\n<!-- saturday&#45;&gt;beef -->\n<g id=\"edge23\" class=\"edge\">\n<title>saturday&#45;&gt;beef</title>\n<path fill=\"none\" stroke=\"#000000\" d=\"M369.8215,-263.0429C352.3733,-248.856 326.759,-228.0294 307.7708,-212.5904\"/>\n<polygon fill=\"#000000\" stroke=\"#000000\" points=\"309.7913,-209.7223 299.8243,-206.1292 305.3752,-215.1536 309.7913,-209.7223\"/>\n<text text-anchor=\"middle\" x=\"362.9469\" y=\"-231.8\" font-family=\"Times,serif\" font-size=\"14.00\" fill=\"#000000\">protein</text>\n</g>\n<!-- sunday&#45;&gt;chicken -->\n<g id=\"edge26\" class=\"edge\">\n<title>sunday&#45;&gt;chicken</title>\n<path fill=\"none\" stroke=\"#000000\" d=\"M570.4469,-260.9735C570.4469,-249.1918 570.4469,-233.5607 570.4469,-220.1581\"/>\n<polygon fill=\"#000000\" stroke=\"#000000\" points=\"573.947,-220.0033 570.4469,-210.0034 566.947,-220.0034 573.947,-220.0033\"/>\n<text text-anchor=\"middle\" x=\"590.9469\" y=\"-231.8\" font-family=\"Times,serif\" font-size=\"14.00\" fill=\"#000000\">protein</text>\n</g>\n<!-- brocoli -->\n<g id=\"node10\" class=\"node\">\n<title>brocoli</title>\n<ellipse fill=\"none\" stroke=\"#000000\" cx=\"504.4469\" cy=\"-105\" rx=\"37.0935\" ry=\"18\"/>\n<text text-anchor=\"middle\" x=\"504.4469\" y=\"-101.3\" font-family=\"Times,serif\" font-size=\"14.00\" fill=\"#000000\">brocoli</text>\n</g>\n<!-- chicken&#45;&gt;brocoli -->\n<g id=\"edge9\" class=\"edge\">\n<title>chicken&#45;&gt;brocoli</title>\n<path fill=\"none\" stroke=\"#000000\" d=\"M537.6015,-181.7806C525.3295,-176.2047 512.6374,-167.933 505.4469,-156 501.4248,-149.325 500.0497,-141.2127 499.9771,-133.44\"/>\n<polygon fill=\"#000000\" stroke=\"#000000\" points=\"503.4849,-133.401 500.5592,-123.2182 496.4962,-133.003 503.4849,-133.401\"/>\n<text text-anchor=\"middle\" x=\"524.9469\" y=\"-144.8\" font-family=\"Times,serif\" font-size=\"14.00\" fill=\"#000000\">veggie</text>\n</g>\n<!-- chicken&#45;&gt;brocoli -->\n<g id=\"edge21\" class=\"edge\">\n<title>chicken&#45;&gt;brocoli</title>\n<path fill=\"none\" stroke=\"#000000\" d=\"M563.2567,-174.068C558.6933,-163.8406 552.1933,-151.0906 544.4469,-141 540.8023,-136.2524 536.4769,-131.6265 532.0396,-127.3588\"/>\n<polygon fill=\"#000000\" stroke=\"#000000\" points=\"534.318,-124.6997 524.5669,-120.5562 529.6057,-129.8762 534.318,-124.6997\"/>\n<text text-anchor=\"middle\" x=\"573.9469\" y=\"-144.8\" font-family=\"Times,serif\" font-size=\"14.00\" fill=\"#000000\">veggie</text>\n</g>\n<!-- salmon -->\n<g id=\"node11\" class=\"node\">\n<title>salmon</title>\n<ellipse fill=\"none\" stroke=\"#000000\" cx=\"666.4469\" cy=\"-105\" rx=\"37.8943\" ry=\"18\"/>\n<text text-anchor=\"middle\" x=\"666.4469\" y=\"-101.3\" font-family=\"Times,serif\" font-size=\"14.00\" fill=\"#000000\">salmon</text>\n</g>\n<!-- chicken&#45;&gt;salmon -->\n<g id=\"edge10\" class=\"edge\">\n<title>chicken&#45;&gt;salmon</title>\n<path fill=\"none\" stroke=\"#000000\" d=\"M603.4811,-181.7768C617.569,-176.0546 633.2941,-167.6725 644.4469,-156 650.6037,-149.5564 655.1824,-141.1182 658.5201,-132.9653\"/>\n<polygon fill=\"#000000\" stroke=\"#000000\" points=\"661.9,-133.9099 661.9984,-123.3155 655.3147,-131.5362 661.9,-133.9099\"/>\n<text text-anchor=\"middle\" x=\"662.9469\" y=\"-144.8\" font-family=\"Times,serif\" font-size=\"14.00\" fill=\"#000000\">fat</text>\n</g>\n<!-- chicken&#45;&gt;salmon -->\n<g id=\"edge22\" class=\"edge\">\n<title>chicken&#45;&gt;salmon</title>\n<path fill=\"none\" stroke=\"#000000\" d=\"M606.2515,-184.2671C632.9934,-177.6809 666.2735,-167.4785 674.4469,-156 679.3255,-149.1487 679.5522,-140.4672 677.8822,-132.2179\"/>\n<polygon fill=\"#000000\" stroke=\"#000000\" points=\"681.2206,-131.1626 675.0894,-122.5221 674.494,-133.1001 681.2206,-131.1626\"/>\n<text text-anchor=\"middle\" x=\"686.9469\" y=\"-144.8\" font-family=\"Times,serif\" font-size=\"14.00\" fill=\"#000000\">fat</text>\n</g>\n<!-- chicken&#45;&gt;salmon -->\n<g id=\"edge28\" class=\"edge\">\n<title>chicken&#45;&gt;salmon</title>\n<path fill=\"none\" stroke=\"#000000\" d=\"M588.1686,-175.3396C598.8921,-165.3153 612.8788,-152.341 625.4469,-141 630.2467,-136.6689 635.4014,-132.0884 640.3805,-127.6993\"/>\n<polygon fill=\"#000000\" stroke=\"#000000\" points=\"642.779,-130.2511 647.9842,-121.0231 638.1604,-124.9909 642.779,-130.2511\"/>\n<text text-anchor=\"middle\" x=\"632.9469\" y=\"-144.8\" font-family=\"Times,serif\" font-size=\"14.00\" fill=\"#000000\">fat</text>\n</g>\n<!-- cabbage -->\n<g id=\"node20\" class=\"node\">\n<title>cabbage</title>\n<ellipse fill=\"none\" stroke=\"#000000\" cx=\"380.4469\" cy=\"-105\" rx=\"40.8928\" ry=\"18\"/>\n<text text-anchor=\"middle\" x=\"380.4469\" y=\"-101.3\" font-family=\"Times,serif\" font-size=\"14.00\" fill=\"#000000\">cabbage</text>\n</g>\n<!-- chicken&#45;&gt;cabbage -->\n<g id=\"edge27\" class=\"edge\">\n<title>chicken&#45;&gt;cabbage</title>\n<path fill=\"none\" stroke=\"#000000\" d=\"M530.8928,-190.1484C481.2325,-186.9064 400.2461,-178.2698 381.4469,-156 376.145,-149.7193 374.5561,-141.2892 374.6847,-133.0937\"/>\n<polygon fill=\"#000000\" stroke=\"#000000\" points=\"378.1807,-133.2975 375.6161,-123.0178 371.2104,-132.6532 378.1807,-133.2975\"/>\n<text text-anchor=\"middle\" x=\"400.9469\" y=\"-144.8\" font-family=\"Times,serif\" font-size=\"14.00\" fill=\"#000000\">veggie</text>\n</g>\n<!-- beans -->\n<g id=\"node13\" class=\"node\">\n<title>beans</title>\n<ellipse fill=\"none\" stroke=\"#000000\" cx=\"118.4469\" cy=\"-105\" rx=\"31.6951\" ry=\"18\"/>\n<text text-anchor=\"middle\" x=\"118.4469\" y=\"-101.3\" font-family=\"Times,serif\" font-size=\"14.00\" fill=\"#000000\">beans</text>\n</g>\n<!-- pork&#45;&gt;beans -->\n<g id=\"edge12\" class=\"edge\">\n<title>pork&#45;&gt;beans</title>\n<path fill=\"none\" stroke=\"#000000\" d=\"M105.7622,-173.9735C107.9289,-162.1918 110.8036,-146.5607 113.2684,-133.1581\"/>\n<polygon fill=\"#000000\" stroke=\"#000000\" points=\"116.7694,-133.4715 115.136,-123.0034 109.8849,-132.2053 116.7694,-133.4715\"/>\n<text text-anchor=\"middle\" x=\"130.9469\" y=\"-144.8\" font-family=\"Times,serif\" font-size=\"14.00\" fill=\"#000000\">veggie</text>\n</g>\n<!-- lettuce -->\n<g id=\"node18\" class=\"node\">\n<title>lettuce</title>\n<ellipse fill=\"none\" stroke=\"#000000\" cx=\"34.4469\" cy=\"-105\" rx=\"34.394\" ry=\"18\"/>\n<text text-anchor=\"middle\" x=\"34.4469\" y=\"-101.3\" font-family=\"Times,serif\" font-size=\"14.00\" fill=\"#000000\">lettuce</text>\n</g>\n<!-- pork&#45;&gt;lettuce -->\n<g id=\"edge18\" class=\"edge\">\n<title>pork&#45;&gt;lettuce</title>\n<path fill=\"none\" stroke=\"#000000\" d=\"M86.4104,-176.848C80.1955,-170.6405 73.2052,-163.2263 67.4469,-156 61.2691,-148.2471 55.1788,-139.3115 49.9448,-131.1072\"/>\n<polygon fill=\"#000000\" stroke=\"#000000\" points=\"52.8939,-129.2218 44.6377,-122.5821 46.9513,-132.9212 52.8939,-129.2218\"/>\n<text text-anchor=\"middle\" x=\"86.9469\" y=\"-144.8\" font-family=\"Times,serif\" font-size=\"14.00\" fill=\"#000000\">veggie</text>\n</g>\n<!-- avocado -->\n<g id=\"node14\" class=\"node\">\n<title>avocado</title>\n<ellipse fill=\"none\" stroke=\"#000000\" cx=\"158.4469\" cy=\"-18\" rx=\"42.4939\" ry=\"18\"/>\n<text text-anchor=\"middle\" x=\"158.4469\" y=\"-14.3\" font-family=\"Times,serif\" font-size=\"14.00\" fill=\"#000000\">avocado</text>\n</g>\n<!-- beans&#45;&gt;avocado -->\n<g id=\"edge13\" class=\"edge\">\n<title>beans&#45;&gt;avocado</title>\n<path fill=\"none\" stroke=\"#000000\" d=\"M126.5415,-87.3943C132.0892,-75.3281 139.5583,-59.0828 145.8751,-45.3438\"/>\n<polygon fill=\"#000000\" stroke=\"#000000\" points=\"149.2297,-46.426 150.2271,-35.8782 142.8697,-43.5018 149.2297,-46.426\"/>\n<text text-anchor=\"middle\" x=\"148.9469\" y=\"-57.8\" font-family=\"Times,serif\" font-size=\"14.00\" fill=\"#000000\">fat</text>\n</g>\n<!-- beef&#45;&gt;brocoli -->\n<g id=\"edge24\" class=\"edge\">\n<title>beef&#45;&gt;brocoli</title>\n<path fill=\"none\" stroke=\"#000000\" d=\"M308.6165,-187.5263C336.9344,-182.1512 383.0524,-171.8286 420.4469,-156 439.4907,-147.939 459.3322,-136.0781 474.9467,-125.8228\"/>\n<polygon fill=\"#000000\" stroke=\"#000000\" points=\"477.2575,-128.4874 483.6138,-120.011 473.3589,-122.6734 477.2575,-128.4874\"/>\n<text text-anchor=\"middle\" x=\"468.9469\" y=\"-144.8\" font-family=\"Times,serif\" font-size=\"14.00\" fill=\"#000000\">veggie</text>\n</g>\n<!-- beef&#45;&gt;avocado -->\n<g id=\"edge25\" class=\"edge\">\n<title>beef&#45;&gt;avocado</title>\n<path fill=\"none\" stroke=\"#000000\" d=\"M261.7354,-180.309C242.128,-168.2696 213.1332,-147.7982 195.4469,-123 178.8797,-99.7707 169.1161,-68.417 163.8184,-46.0329\"/>\n<polygon fill=\"#000000\" stroke=\"#000000\" points=\"167.2073,-45.1476 161.6282,-36.1407 160.3728,-46.6609 167.2073,-45.1476\"/>\n<text text-anchor=\"middle\" x=\"214.9469\" y=\"-101.3\" font-family=\"Times,serif\" font-size=\"14.00\" fill=\"#000000\">veggie</text>\n</g>\n<!-- spinach -->\n<g id=\"node16\" class=\"node\">\n<title>spinach</title>\n<ellipse fill=\"none\" stroke=\"#000000\" cx=\"282.4469\" cy=\"-105\" rx=\"38.9931\" ry=\"18\"/>\n<text text-anchor=\"middle\" x=\"282.4469\" y=\"-101.3\" font-family=\"Times,serif\" font-size=\"14.00\" fill=\"#000000\">spinach</text>\n</g>\n<!-- beef&#45;&gt;spinach -->\n<g id=\"edge15\" class=\"edge\">\n<title>beef&#45;&gt;spinach</title>\n<path fill=\"none\" stroke=\"#000000\" d=\"M282.4469,-173.9735C282.4469,-162.1918 282.4469,-146.5607 282.4469,-133.1581\"/>\n<polygon fill=\"#000000\" stroke=\"#000000\" points=\"285.947,-133.0033 282.4469,-123.0034 278.947,-133.0034 285.947,-133.0033\"/>\n<text text-anchor=\"middle\" x=\"301.9469\" y=\"-144.8\" font-family=\"Times,serif\" font-size=\"14.00\" fill=\"#000000\">veggie</text>\n</g>\n<!-- bacon -->\n<g id=\"node17\" class=\"node\">\n<title>bacon</title>\n<ellipse fill=\"none\" stroke=\"#000000\" cx=\"282.4469\" cy=\"-18\" rx=\"33.2948\" ry=\"18\"/>\n<text text-anchor=\"middle\" x=\"282.4469\" y=\"-14.3\" font-family=\"Times,serif\" font-size=\"14.00\" fill=\"#000000\">bacon</text>\n</g>\n<!-- spinach&#45;&gt;bacon -->\n<g id=\"edge16\" class=\"edge\">\n<title>spinach&#45;&gt;bacon</title>\n<path fill=\"none\" stroke=\"#000000\" d=\"M282.4469,-86.9735C282.4469,-75.1918 282.4469,-59.5607 282.4469,-46.1581\"/>\n<polygon fill=\"#000000\" stroke=\"#000000\" points=\"285.947,-46.0033 282.4469,-36.0034 278.947,-46.0034 285.947,-46.0033\"/>\n<text text-anchor=\"middle\" x=\"289.9469\" y=\"-57.8\" font-family=\"Times,serif\" font-size=\"14.00\" fill=\"#000000\">fat</text>\n</g>\n<!-- cheese -->\n<g id=\"node19\" class=\"node\">\n<title>cheese</title>\n<ellipse fill=\"none\" stroke=\"#000000\" cx=\"34.4469\" cy=\"-18\" rx=\"34.394\" ry=\"18\"/>\n<text text-anchor=\"middle\" x=\"34.4469\" y=\"-14.3\" font-family=\"Times,serif\" font-size=\"14.00\" fill=\"#000000\">cheese</text>\n</g>\n<!-- lettuce&#45;&gt;cheese -->\n<g id=\"edge19\" class=\"edge\">\n<title>lettuce&#45;&gt;cheese</title>\n<path fill=\"none\" stroke=\"#000000\" d=\"M34.4469,-86.9735C34.4469,-75.1918 34.4469,-59.5607 34.4469,-46.1581\"/>\n<polygon fill=\"#000000\" stroke=\"#000000\" points=\"37.947,-46.0033 34.4469,-36.0034 30.947,-46.0034 37.947,-46.0033\"/>\n<text text-anchor=\"middle\" x=\"41.9469\" y=\"-57.8\" font-family=\"Times,serif\" font-size=\"14.00\" fill=\"#000000\">fat</text>\n</g>\n</g>\n</svg>\n"
          },
          "metadata": {},
          "execution_count": 35
        }
      ]
    },
    {
      "cell_type": "markdown",
      "source": [
        "At first, I just imported graphviz which is going to help me graph all the node and vertices I am goin to use.\n",
        "\n",
        "For the project I am laying out all the food I eat on every meal during my day through the week. For top node is labled as Diet and diet is spread through seven vertics which indicates the days of the week from monday to sunday. all the food can be seen on the particular day. My meals consist of three main things and they are protein, veggies and fats. Since we can see on the graph, some days the protein and veggies and the fats are ovelapping. because there are three main protein I use so like chicken on friday saturday and sunday. mostly the veggies vary every day to there are only one vertices connecting the veggies but morer vetices are dirrected to most of the protein.\n",
        "\n",
        "when, I look at the degree of the vertics, diet have seven degree because it is connected with seven vertices and rest of the vertices have 2 and three degree.My graph has some cycle starting fro diet-sat-chicken-brocoli and diet-sunday-chicken-brocoli."
      ],
      "metadata": {
        "id": "7KO4r_x_tAQj"
      }
    }
  ]
}